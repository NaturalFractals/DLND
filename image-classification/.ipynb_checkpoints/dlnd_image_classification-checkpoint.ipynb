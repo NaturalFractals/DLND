{
 "cells": [
  {
   "cell_type": "markdown",
   "metadata": {
    "collapsed": true,
    "deletable": true,
    "editable": true
   },
   "source": [
    "# Image Classification\n",
    "In this project, you'll classify images from the [CIFAR-10 dataset](https://www.cs.toronto.edu/~kriz/cifar.html).  The dataset consists of airplanes, dogs, cats, and other objects. You'll preprocess the images, then train a convolutional neural network on all the samples. The images need to be normalized and the labels need to be one-hot encoded.  You'll get to apply what you learned and build a convolutional, max pooling, dropout, and fully connected layers.  At the end, you'll get to see your neural network's predictions on the sample images.\n",
    "## Get the Data\n",
    "Run the following cell to download the [CIFAR-10 dataset for python](https://www.cs.toronto.edu/~kriz/cifar-10-python.tar.gz)."
   ]
  },
  {
   "cell_type": "code",
   "execution_count": 5,
   "metadata": {
    "collapsed": false,
    "deletable": true,
    "editable": true
   },
   "outputs": [
    {
     "name": "stdout",
     "output_type": "stream",
     "text": [
      "All files found!\n"
     ]
    }
   ],
   "source": [
    "\"\"\"\n",
    "DON'T MODIFY ANYTHING IN THIS CELL THAT IS BELOW THIS LINE\n",
    "\"\"\"\n",
    "from urllib.request import urlretrieve\n",
    "from os.path import isfile, isdir\n",
    "from tqdm import tqdm\n",
    "import problem_unittests as tests\n",
    "import tarfile\n",
    "\n",
    "cifar10_dataset_folder_path = 'cifar-10-batches-py'\n",
    "\n",
    "class DLProgress(tqdm):\n",
    "    last_block = 0\n",
    "\n",
    "    def hook(self, block_num=1, block_size=1, total_size=None):\n",
    "        self.total = total_size\n",
    "        self.update((block_num - self.last_block) * block_size)\n",
    "        self.last_block = block_num\n",
    "\n",
    "if not isfile('cifar-10-python.tar.gz'):\n",
    "    with DLProgress(unit='B', unit_scale=True, miniters=1, desc='CIFAR-10 Dataset') as pbar:\n",
    "        urlretrieve(\n",
    "            'https://www.cs.toronto.edu/~kriz/cifar-10-python.tar.gz',\n",
    "            'cifar-10-python.tar.gz',\n",
    "            pbar.hook)\n",
    "\n",
    "if not isdir(cifar10_dataset_folder_path):\n",
    "    with tarfile.open('cifar-10-python.tar.gz') as tar:\n",
    "        tar.extractall()\n",
    "        tar.close()\n",
    "\n",
    "\n",
    "tests.test_folder_path(cifar10_dataset_folder_path)"
   ]
  },
  {
   "cell_type": "markdown",
   "metadata": {
    "deletable": true,
    "editable": true
   },
   "source": [
    "## Explore the Data\n",
    "The dataset is broken into batches to prevent your machine from running out of memory.  The CIFAR-10 dataset consists of 5 batches, named `data_batch_1`, `data_batch_2`, etc.. Each batch contains the labels and images that are one of the following:\n",
    "* airplane\n",
    "* automobile\n",
    "* bird\n",
    "* cat\n",
    "* deer\n",
    "* dog\n",
    "* frog\n",
    "* horse\n",
    "* ship\n",
    "* truck\n",
    "\n",
    "Understanding a dataset is part of making predictions on the data.  Play around with the code cell below by changing the `batch_id` and `sample_id`. The `batch_id` is the id for a batch (1-5). The `sample_id` is the id for a image and label pair in the batch.\n",
    "\n",
    "Ask yourself \"What are all possible labels?\", \"What is the range of values for the image data?\", \"Are the labels in order or random?\".  Answers to questions like these will help you preprocess the data and end up with better predictions."
   ]
  },
  {
   "cell_type": "code",
   "execution_count": 6,
   "metadata": {
    "collapsed": false,
    "deletable": true,
    "editable": true
   },
   "outputs": [
    {
     "name": "stdout",
     "output_type": "stream",
     "text": [
      "\n",
      "Stats of batch 1:\n",
      "Samples: 10000\n",
      "Label Counts: {0: 1005, 1: 974, 2: 1032, 3: 1016, 4: 999, 5: 937, 6: 1030, 7: 1001, 8: 1025, 9: 981}\n",
      "First 20 Labels: [6, 9, 9, 4, 1, 1, 2, 7, 8, 3, 4, 7, 7, 2, 9, 9, 9, 3, 2, 6]\n",
      "\n",
      "Example of Image 5:\n",
      "Image - Min Value: 0 Max Value: 252\n",
      "Image - Shape: (32, 32, 3)\n",
      "Label - Label Id: 1 Name: automobile\n"
     ]
    },
    {
     "data": {
      "image/png": "[encoded data removed]",
      "text/plain": [
       "<matplotlib.figure.Figure at 0x12078d6d8>"
      ]
     },
     "metadata": {
      "image/png": {
       "height": 250,
       "width": 253
      }
     },
     "output_type": "display_data"
    }
   ],
   "source": [
    "%matplotlib inline\n",
    "%config InlineBackend.figure_format = 'retina'\n",
    "\n",
    "import helper\n",
    "import numpy as np\n",
    "\n",
    "# Explore the dataset\n",
    "batch_id = 1\n",
    "sample_id = 5\n",
    "helper.display_stats(cifar10_dataset_folder_path, batch_id, sample_id)"
   ]
  },
  {
   "cell_type": "markdown",
   "metadata": {
    "deletable": true,
    "editable": true
   },
   "source": [
    "## Implement Preprocess Functions\n",
    "### Normalize\n",
    "In the cell below, implement the `normalize` function to take in image data, `x`, and return it as a normalized Numpy array. The values should be in the range of 0 to 1, inclusive.  The return object should be the same shape as `x`."
   ]
  },
  {
   "cell_type": "code",
   "execution_count": 7,
   "metadata": {
    "collapsed": false,
    "deletable": true,
    "editable": true
   },
   "outputs": [
    {
     "name": "stdout",
     "output_type": "stream",
     "text": [
      "Tests Passed\n"
     ]
    }
   ],
   "source": [
    "def normalize(x):\n",
    "    \"\"\"\n",
    "    Normalize a list of sample image data in the range of 0 to 1\n",
    "    : x: List of image data.  The image shape is (32, 32, 3)\n",
    "    : return: Numpy array of normalize data\n",
    "    \"\"\"\n",
    "    return x / 255\n",
    "\n",
    "\n",
    "\"\"\"\n",
    "DON'T MODIFY ANYTHING IN THIS CELL THAT IS BELOW THIS LINE\n",
    "\"\"\"\n",
    "tests.test_normalize(normalize)"
   ]
  },
  {
   "cell_type": "markdown",
   "metadata": {
    "deletable": true,
    "editable": true
   },
   "source": [
    "### One-hot encode\n",
    "Just like the previous code cell, you'll be implementing a function for preprocessing.  This time, you'll implement the `one_hot_encode` function. The input, `x`, are a list of labels.  Implement the function to return the list of labels as One-Hot encoded Numpy array.  The possible values for labels are 0 to 9. The one-hot encoding function should return the same encoding for each value between each call to `one_hot_encode`.  Make sure to save the map of encodings outside the function.\n",
    "\n",
    "Hint: Don't reinvent the wheel."
   ]
  },
  {
   "cell_type": "code",
   "execution_count": 25,
   "metadata": {
    "collapsed": false,
    "deletable": true,
    "editable": true
   },
   "outputs": [
    {
     "name": "stdout",
     "output_type": "stream",
     "text": [
      "Tests Passed\n"
     ]
    }
   ],
   "source": [
    "from sklearn.preprocessing import LabelBinarizer\n",
    "from sklearn import preprocessing\n",
    "\n",
    "def one_hot_encode(x):\n",
    "    \"\"\"\n",
    "    One hot encode a list of sample labels. Return a one-hot encoded vector for each label.\n",
    "    : x: List of sample Labels\n",
    "    : return: Numpy array of one-hot encoded labels\n",
    "    \"\"\"\n",
    "    binarizer = preprocessing.LabelBinarizer()\n",
    "    binarizer.fit(x)\n",
    "    binarizer.classes_ = [0, 1, 2, 3, 4, 5, 6, 7, 8, 9]\n",
    "    return binarizer.transform(x)\n",
    "\n",
    "\n",
    "\"\"\"\n",
    "DON'T MODIFY ANYTHING IN THIS CELL THAT IS BELOW THIS LINE\n",
    "\"\"\"\n",
    "tests.test_one_hot_encode(one_hot_encode)"
   ]
  },
  {
   "cell_type": "markdown",
   "metadata": {
    "deletable": true,
    "editable": true
   },
   "source": [
    "### Randomize Data\n",
    "As you saw from exploring the data above, the order of the samples are randomized.  It doesn't hurt to randomize it again, but you don't need to for this dataset."
   ]
  },
  {
   "cell_type": "markdown",
   "metadata": {
    "deletable": true,
    "editable": true
   },
   "source": [
    "## Preprocess all the data and save it\n",
    "Running the code cell below will preprocess all the CIFAR-10 data and save it to file. The code below also uses 10% of the training data for validation."
   ]
  },
  {
   "cell_type": "code",
   "execution_count": 9,
   "metadata": {
    "collapsed": false,
    "deletable": true,
    "editable": true
   },
   "outputs": [],
   "source": [
    "\"\"\"\n",
    "DON'T MODIFY ANYTHING IN THIS CELL\n",
    "\"\"\"\n",
    "# Preprocess Training, Validation, and Testing Data\n",
    "helper.preprocess_and_save_data(cifar10_dataset_folder_path, normalize, one_hot_encode)"
   ]
  },
  {
   "cell_type": "markdown",
   "metadata": {
    "deletable": true,
    "editable": true
   },
   "source": [
    "# Check Point\n",
    "This is your first checkpoint.  If you ever decide to come back to this notebook or have to restart the notebook, you can start from here.  The preprocessed data has been saved to disk."
   ]
  },
  {
   "cell_type": "code",
   "execution_count": 10,
   "metadata": {
    "collapsed": false,
    "deletable": true,
    "editable": true
   },
   "outputs": [],
   "source": [
    "\"\"\"\n",
    "DON'T MODIFY ANYTHING IN THIS CELL\n",
    "\"\"\"\n",
    "import pickle\n",
    "import problem_unittests as tests\n",
    "import helper\n",
    "\n",
    "# Load the Preprocessed Validation data\n",
    "valid_features, valid_labels = pickle.load(open('preprocess_validation.p', mode='rb'))"
   ]
  },
  {
   "cell_type": "markdown",
   "metadata": {
    "deletable": true,
    "editable": true
   },
   "source": [
    "## Build the network\n",
    "For the neural network, you'll build each layer into a function.  Most of the code you've seen has been outside of functions. To test your code more thoroughly, we require that you put each layer in a function.  This allows us to give you better feedback and test for simple mistakes using our unittests before you submit your project.\n",
    "\n",
    ">**Note:** If you're finding it hard to dedicate enough time for this course each week, we've provided a small shortcut to this part of the project. In the next couple of problems, you'll have the option to use classes from the [TensorFlow Layers](https://www.tensorflow.org/api_docs/python/tf/layers) or [TensorFlow Layers (contrib)](https://www.tensorflow.org/api_guides/python/contrib.layers) packages to build each layer, except the layers you build in the \"Convolutional and Max Pooling Layer\" section.  TF Layers is similar to Keras's and TFLearn's abstraction to layers, so it's easy to pickup.\n",
    "\n",
    ">However, if you would like to get the most out of this course, try to solve all the problems _without_ using anything from the TF Layers packages. You **can** still use classes from other packages that happen to have the same name as ones you find in TF Layers! For example, instead of using the TF Layers version of the `conv2d` class, [tf.layers.conv2d](https://www.tensorflow.org/api_docs/python/tf/layers/conv2d), you would want to use the TF Neural Network version of `conv2d`, [tf.nn.conv2d](https://www.tensorflow.org/api_docs/python/tf/nn/conv2d). \n",
    "\n",
    "Let's begin!\n",
    "\n",
    "### Input\n",
    "The neural network needs to read the image data, one-hot encoded labels, and dropout keep probability. Implement the following functions\n",
    "* Implement `neural_net_image_input`\n",
    " * Return a [TF Placeholder](https://www.tensorflow.org/api_docs/python/tf/placeholder)\n",
    " * Set the shape using `image_shape` with batch size set to `None`.\n",
    " * Name the TensorFlow placeholder \"x\" using the TensorFlow `name` parameter in the [TF Placeholder](https://www.tensorflow.org/api_docs/python/tf/placeholder).\n",
    "* Implement `neural_net_label_input`\n",
    " * Return a [TF Placeholder](https://www.tensorflow.org/api_docs/python/tf/placeholder)\n",
    " * Set the shape using `n_classes` with batch size set to `None`.\n",
    " * Name the TensorFlow placeholder \"y\" using the TensorFlow `name` parameter in the [TF Placeholder](https://www.tensorflow.org/api_docs/python/tf/placeholder).\n",
    "* Implement `neural_net_keep_prob_input`\n",
    " * Return a [TF Placeholder](https://www.tensorflow.org/api_docs/python/tf/placeholder) for dropout keep probability.\n",
    " * Name the TensorFlow placeholder \"keep_prob\" using the TensorFlow `name` parameter in the [TF Placeholder](https://www.tensorflow.org/api_docs/python/tf/placeholder).\n",
    "\n",
    "These names will be used at the end of the project to load your saved model.\n",
    "\n",
    "Note: `None` for shapes in TensorFlow allow for a dynamic size."
   ]
  },
  {
   "cell_type": "code",
   "execution_count": 11,
   "metadata": {
    "collapsed": false,
    "deletable": true,
    "editable": true
   },
   "outputs": [
    {
     "name": "stdout",
     "output_type": "stream",
     "text": [
      "Image Input Tests Passed.\n",
      "Label Input Tests Passed.\n",
      "Keep Prob Tests Passed.\n"
     ]
    }
   ],
   "source": [
    "import tensorflow as tf\n",
    "\n",
    "def neural_net_image_input(image_shape):\n",
    "    \"\"\"\n",
    "    Return a Tensor for a batch of image input\n",
    "    : image_shape: Shape of the images\n",
    "    : return: Tensor for image input.\n",
    "    \"\"\"\n",
    "    return tf.placeholder(tf.float32, [None, *image_shape], \"x\")\n",
    "\n",
    "\n",
    "def neural_net_label_input(n_classes):\n",
    "    \"\"\"\n",
    "    Return a Tensor for a batch of label input\n",
    "    : n_classes: Number of classes\n",
    "    : return: Tensor for label input.\n",
    "    \"\"\"\n",
    "    return tf.placeholder(tf.float32, [None, n_classes], \"y\")\n",
    "\n",
    "\n",
    "def neural_net_keep_prob_input():\n",
    "    \"\"\"\n",
    "    Return a Tensor for keep probability\n",
    "    : return: Tensor for keep probability.\n",
    "    \"\"\"\n",
    "    return tf.placeholder(tf.float32, name = \"keep_prob\")\n",
    "\n",
    "\n",
    "\"\"\"\n",
    "DON'T MODIFY ANYTHING IN THIS CELL THAT IS BELOW THIS LINE\n",
    "\"\"\"\n",
    "tf.reset_default_graph()\n",
    "tests.test_nn_image_inputs(neural_net_image_input)\n",
    "tests.test_nn_label_inputs(neural_net_label_input)\n",
    "tests.test_nn_keep_prob_inputs(neural_net_keep_prob_input)"
   ]
  },
  {
   "cell_type": "markdown",
   "metadata": {
    "deletable": true,
    "editable": true
   },
   "source": [
    "### Convolution and Max Pooling Layer\n",
    "Convolution layers have a lot of success with images. For this code cell, you should implement the function `conv2d_maxpool` to apply convolution then max pooling:\n",
    "* Create the weight and bias using `conv_ksize`, `conv_num_outputs` and the shape of `x_tensor`.\n",
    "* Apply a convolution to `x_tensor` using weight and `conv_strides`.\n",
    " * We recommend you use same padding, but you're welcome to use any padding.\n",
    "* Add bias\n",
    "* Add a nonlinear activation to the convolution.\n",
    "* Apply Max Pooling using `pool_ksize` and `pool_strides`.\n",
    " * We recommend you use same padding, but you're welcome to use any padding.\n",
    "\n",
    "**Note:** You **can't** use [TensorFlow Layers](https://www.tensorflow.org/api_docs/python/tf/layers) or [TensorFlow Layers (contrib)](https://www.tensorflow.org/api_guides/python/contrib.layers) for **this** layer, but you can still use TensorFlow's [Neural Network](https://www.tensorflow.org/api_docs/python/tf/nn) package. You may still use the shortcut option for all the **other** layers."
   ]
  },
  {
   "cell_type": "code",
   "execution_count": 12,
   "metadata": {
    "collapsed": false,
    "deletable": true,
    "editable": true
   },
   "outputs": [
    {
     "name": "stdout",
     "output_type": "stream",
     "text": [
      "Tests Passed\n"
     ]
    }
   ],
   "source": [
    "def conv2d_maxpool(x_tensor, conv_num_outputs, conv_ksize, conv_strides, pool_ksize, pool_strides):\n",
    "    \"\"\"\n",
    "    Apply convolution then max pooling to x_tensor\n",
    "    :param x_tensor: TensorFlow Tensor\n",
    "    :param conv_num_outputs: Number of outputs for the convolutional layer\n",
    "    :param conv_ksize: kernal size 2-D Tuple for the convolutional layer\n",
    "    :param conv_strides: Stride 2-D Tuple for convolution\n",
    "    :param pool_ksize: kernal size 2-D Tuple for pool\n",
    "    :param pool_strides: Stride 2-D Tuple for pool\n",
    "    : return: A tensor that represents convolution and max pooling of x_tensor\n",
    "    \"\"\"    \n",
    "    weights = tf.Variable(tf.truncated_normal([*conv_ksize, (x_tensor.get_shape().as_list()[-1]), conv_num_outputs], stddev=0.1))\n",
    "    bias = tf.Variable(tf.zeros([conv_num_outputs]))\n",
    "    convolution_layer = tf.nn.conv2d(x_tensor, weights, strides=[1, *conv_strides, 1], padding='SAME')\n",
    "    convolution_layer = tf.nn.bias_add(convolution_layer, bias)\n",
    "    convolution_layer = tf.nn.relu(convolution_layer)\n",
    "    convolution_layer = tf.nn.max_pool(convolution_layer, ksize=[1, *pool_ksize, 1], strides=[1, *pool_strides, 1], padding='SAME')\n",
    "    return convolution_layer\n",
    "\n",
    "\n",
    "\"\"\"\n",
    "DON'T MODIFY ANYTHING IN THIS CELL THAT IS BELOW THIS LINE\n",
    "\"\"\"\n",
    "tests.test_con_pool(conv2d_maxpool)"
   ]
  },
  {
   "cell_type": "markdown",
   "metadata": {
    "deletable": true,
    "editable": true
   },
   "source": [
    "### Flatten Layer\n",
    "Implement the `flatten` function to change the dimension of `x_tensor` from a 4-D tensor to a 2-D tensor.  The output should be the shape (*Batch Size*, *Flattened Image Size*). Shortcut option: you can use classes from the [TensorFlow Layers](https://www.tensorflow.org/api_docs/python/tf/layers) or [TensorFlow Layers (contrib)](https://www.tensorflow.org/api_guides/python/contrib.layers) packages for this layer. For more of a challenge, only use other TensorFlow packages."
   ]
  },
  {
   "cell_type": "code",
   "execution_count": 13,
   "metadata": {
    "collapsed": false,
    "deletable": true,
    "editable": true
   },
   "outputs": [
    {
     "name": "stdout",
     "output_type": "stream",
     "text": [
      "Tests Passed\n"
     ]
    }
   ],
   "source": [
    "def flatten(x_tensor):\n",
    "    \"\"\"\n",
    "    Flatten x_tensor to (Batch Size, Flattened Image Size)\n",
    "    : x_tensor: A tensor of size (Batch Size, ...), where ... are the image dimensions.\n",
    "    : return: A tensor of size (Batch Size, Flattened Image Size).\n",
    "    \"\"\"\n",
    "    return tf.contrib.layers.flatten(x_tensor)\n",
    "\n",
    "\n",
    "\"\"\"\n",
    "DON'T MODIFY ANYTHING IN THIS CELL THAT IS BELOW THIS LINE\n",
    "\"\"\"\n",
    "tests.test_flatten(flatten)"
   ]
  },
  {
   "cell_type": "markdown",
   "metadata": {
    "deletable": true,
    "editable": true
   },
   "source": [
    "### Fully-Connected Layer\n",
    "Implement the `fully_conn` function to apply a fully connected layer to `x_tensor` with the shape (*Batch Size*, *num_outputs*). Shortcut option: you can use classes from the [TensorFlow Layers](https://www.tensorflow.org/api_docs/python/tf/layers) or [TensorFlow Layers (contrib)](https://www.tensorflow.org/api_guides/python/contrib.layers) packages for this layer. For more of a challenge, only use other TensorFlow packages."
   ]
  },
  {
   "cell_type": "code",
   "execution_count": 14,
   "metadata": {
    "collapsed": false,
    "deletable": true,
    "editable": true
   },
   "outputs": [
    {
     "name": "stdout",
     "output_type": "stream",
     "text": [
      "Tests Passed\n"
     ]
    }
   ],
   "source": [
    "def fully_conn(x_tensor, num_outputs):\n",
    "    \"\"\"\n",
    "    Apply a fully connected layer to x_tensor using weight and bias\n",
    "    : x_tensor: A 2-D tensor where the first dimension is batch size.\n",
    "    : num_outputs: The number of output that the new tensor should be.\n",
    "    : return: A 2-D tensor where the second dimension is num_outputs.\n",
    "    \"\"\"\n",
    "    return tf.contrib.layers.fully_connected(inputs=x_tensor, num_outputs=num_outputs)\n",
    "\n",
    "\n",
    "\"\"\"\n",
    "DON'T MODIFY ANYTHING IN THIS CELL THAT IS BELOW THIS LINE\n",
    "\"\"\"\n",
    "tests.test_fully_conn(fully_conn)"
   ]
  },
  {
   "cell_type": "markdown",
   "metadata": {
    "deletable": true,
    "editable": true
   },
   "source": [
    "### Output Layer\n",
    "Implement the `output` function to apply a fully connected layer to `x_tensor` with the shape (*Batch Size*, *num_outputs*). Shortcut option: you can use classes from the [TensorFlow Layers](https://www.tensorflow.org/api_docs/python/tf/layers) or [TensorFlow Layers (contrib)](https://www.tensorflow.org/api_guides/python/contrib.layers) packages for this layer. For more of a challenge, only use other TensorFlow packages.\n",
    "\n",
    "**Note:** Activation, softmax, or cross entropy should **not** be applied to this."
   ]
  },
  {
   "cell_type": "code",
   "execution_count": 15,
   "metadata": {
    "collapsed": false,
    "deletable": true,
    "editable": true
   },
   "outputs": [
    {
     "name": "stdout",
     "output_type": "stream",
     "text": [
      "Tests Passed\n"
     ]
    }
   ],
   "source": [
    "def output(x_tensor, num_outputs):\n",
    "    \"\"\"\n",
    "    Apply a output layer to x_tensor using weight and bias\n",
    "    : x_tensor: A 2-D tensor where the first dimension is batch size.\n",
    "    : num_outputs: The number of output that the new tensor should be.\n",
    "    : return: A 2-D tensor where the second dimension is num_outputs.\n",
    "    \"\"\"\n",
    "    return tf.contrib.layers.fully_connected(x_tensor, num_outputs, None)\n",
    "\n",
    "\n",
    "\"\"\"\n",
    "DON'T MODIFY ANYTHING IN THIS CELL THAT IS BELOW THIS LINE\n",
    "\"\"\"\n",
    "tests.test_output(output)"
   ]
  },
  {
   "cell_type": "markdown",
   "metadata": {
    "deletable": true,
    "editable": true
   },
   "source": [
    "### Create Convolutional Model\n",
    "Implement the function `conv_net` to create a convolutional neural network model. The function takes in a batch of images, `x`, and outputs logits.  Use the layers you created above to create this model:\n",
    "\n",
    "* Apply 1, 2, or 3 Convolution and Max Pool layers\n",
    "* Apply a Flatten Layer\n",
    "* Apply 1, 2, or 3 Fully Connected Layers\n",
    "* Apply an Output Layer\n",
    "* Return the output\n",
    "* Apply [TensorFlow's Dropout](https://www.tensorflow.org/api_docs/python/tf/nn/dropout) to one or more layers in the model using `keep_prob`. "
   ]
  },
  {
   "cell_type": "code",
   "execution_count": 16,
   "metadata": {
    "collapsed": false,
    "deletable": true,
    "editable": true
   },
   "outputs": [
    {
     "name": "stdout",
     "output_type": "stream",
     "text": [
      "Neural Network Built!\n"
     ]
    }
   ],
   "source": [
    "def conv_net(x, keep_prob):\n",
    "    \"\"\"\n",
    "    Create a convolutional neural network model\n",
    "    : x: Placeholder tensor that holds image data.\n",
    "    : keep_prob: Placeholder tensor that hold dropout keep probability.\n",
    "    : return: Tensor that represents logits\n",
    "    \"\"\"\n",
    "    # TODO: Apply 1, 2, or 3 Convolution and Max Pool layers\n",
    "    #    Play around with different number of outputs, kernel size and stride\n",
    "    # Function Definition from Above:\n",
    "    #    conv2d_maxpool(x_tensor, conv_num_outputs, conv_ksize, conv_strides, pool_ksize, pool_strides)\n",
    "    conv_layer_1 = conv2d_maxpool(x, 9, (3, 3), (1, 1), (2, 2), (2, 2))\n",
    "    conv_layer_2 = conv2d_maxpool(conv_layer_1, 18, (3, 3), (1, 1), (2, 2), (2, 2))\n",
    "    conv_layer_3 = conv2d_maxpool(conv_layer_2, 36, (3, 3), (1, 1), (2, 2), (2, 2))\n",
    "    \n",
    "\n",
    "    # TODO: Apply a Flatten Layer\n",
    "    # Function Definition from Above:\n",
    "    #   flatten(x_tensor)\n",
    "    flattens = flatten(conv_layer_3)\n",
    "    \n",
    "\n",
    "    # TODO: Apply 1, 2, or 3 Fully Connected Layers\n",
    "    #    Play around with different number of outputs\n",
    "    # Function Definition from Above:\n",
    "    #   fully_conn(x_tensor, num_outputs)\n",
    "    fully_connected_1 = fully_conn(flattens, 1000)\n",
    "    fully_connected_1 = tf.nn.dropout(fully_connected_1, keep_prob)\n",
    "    \n",
    "    fully_connected_2 = fully_conn(fully_connected_1, 640)\n",
    "    fully_connected_2 = tf.nn.dropout(fully_connected_2, keep_prob)\n",
    "    \n",
    "    fully_connected_3 = fully_conn(fully_connected_2, 210)\n",
    "    fully_connected_3 = tf.nn.dropout(fully_connected_3, keep_prob)\n",
    "    \n",
    "    \n",
    "    # TODO: Apply an Output Layer\n",
    "    #    Set this to the number of classes\n",
    "    # Function Definition from Above:\n",
    "    #   output(x_tensor, num_outputs)\n",
    "    \n",
    "    outputs = output(fully_connected_3, 10)\n",
    "    \n",
    "    \n",
    "    # TODO: return output\n",
    "    return outputs\n",
    "\n",
    "\n",
    "\"\"\"\n",
    "DON'T MODIFY ANYTHING IN THIS CELL THAT IS BELOW THIS LINE\n",
    "\"\"\"\n",
    "\n",
    "##############################\n",
    "## Build the Neural Network ##\n",
    "##############################\n",
    "\n",
    "# Remove previous weights, bias, inputs, etc..\n",
    "tf.reset_default_graph()\n",
    "\n",
    "# Inputs\n",
    "x = neural_net_image_input((32, 32, 3))\n",
    "y = neural_net_label_input(10)\n",
    "keep_prob = neural_net_keep_prob_input()\n",
    "\n",
    "# Model\n",
    "logits = conv_net(x, keep_prob)\n",
    "\n",
    "# Name logits Tensor, so that is can be loaded from disk after training\n",
    "logits = tf.identity(logits, name='logits')\n",
    "\n",
    "# Loss and Optimizer\n",
    "cost = tf.reduce_mean(tf.nn.softmax_cross_entropy_with_logits(logits=logits, labels=y))\n",
    "optimizer = tf.train.AdamOptimizer().minimize(cost)\n",
    "\n",
    "# Accuracy\n",
    "correct_pred = tf.equal(tf.argmax(logits, 1), tf.argmax(y, 1))\n",
    "accuracy = tf.reduce_mean(tf.cast(correct_pred, tf.float32), name='accuracy')\n",
    "\n",
    "tests.test_conv_net(conv_net)"
   ]
  },
  {
   "cell_type": "markdown",
   "metadata": {
    "deletable": true,
    "editable": true
   },
   "source": [
    "## Train the Neural Network\n",
    "### Single Optimization\n",
    "Implement the function `train_neural_network` to do a single optimization.  The optimization should use `optimizer` to optimize in `session` with a `feed_dict` of the following:\n",
    "* `x` for image input\n",
    "* `y` for labels\n",
    "* `keep_prob` for keep probability for dropout\n",
    "\n",
    "This function will be called for each batch, so `tf.global_variables_initializer()` has already been called.\n",
    "\n",
    "Note: Nothing needs to be returned. This function is only optimizing the neural network."
   ]
  },
  {
   "cell_type": "code",
   "execution_count": 17,
   "metadata": {
    "collapsed": false,
    "deletable": true,
    "editable": true
   },
   "outputs": [
    {
     "name": "stdout",
     "output_type": "stream",
     "text": [
      "Tests Passed\n"
     ]
    }
   ],
   "source": [
    "def train_neural_network(session, optimizer, keep_probability, feature_batch, label_batch):\n",
    "    \"\"\"\n",
    "    Optimize the session on a batch of images and labels\n",
    "    : session: Current TensorFlow session\n",
    "    : optimizer: TensorFlow optimizer function\n",
    "    : keep_probability: keep probability\n",
    "    : feature_batch: Batch of Numpy image data\n",
    "    : label_batch: Batch of Numpy label data\n",
    "    \"\"\"\n",
    "    session.run(optimizer, {x: feature_batch, y: label_batch, keep_prob: keep_probability})\n",
    "\n",
    "\n",
    "\"\"\"\n",
    "DON'T MODIFY ANYTHING IN THIS CELL THAT IS BELOW THIS LINE\n",
    "\"\"\"\n",
    "tests.test_train_nn(train_neural_network)"
   ]
  },
  {
   "cell_type": "markdown",
   "metadata": {
    "deletable": true,
    "editable": true
   },
   "source": [
    "### Show Stats\n",
    "Implement the function `print_stats` to print loss and validation accuracy.  Use the global variables `valid_features` and `valid_labels` to calculate validation accuracy.  Use a keep probability of `1.0` to calculate the loss and validation accuracy."
   ]
  },
  {
   "cell_type": "code",
   "execution_count": 18,
   "metadata": {
    "collapsed": false,
    "deletable": true,
    "editable": true
   },
   "outputs": [],
   "source": [
    "def print_stats(session, feature_batch, label_batch, cost, accuracy):\n",
    "    \"\"\"\n",
    "    Print information about loss and validation accuracy\n",
    "    : session: Current TensorFlow session\n",
    "    : feature_batch: Batch of Numpy image data\n",
    "    : label_batch: Batch of Numpy label data\n",
    "    : cost: TensorFlow cost function\n",
    "    : accuracy: TensorFlow accuracy function\n",
    "    \"\"\"\n",
    "    training_loss = session.run(cost, {x:feature_batch, y:label_batch, keep_prob:1.})\n",
    "    validation_loss = session.run(cost, {x:valid_features, y:valid_labels, keep_prob: 1.})\n",
    "    validation_accuracy = session.run(accuracy, {x:valid_features, y:valid_labels, keep_prob: 1.})\n",
    "    print('Traiing Loss:{:>10.4f}, Validation Loss:{:>10.4f}, Validation Accuracy:{:>10.4f}'.format(training_loss, validation_loss, validation_accuracy))\n",
    "    "
   ]
  },
  {
   "cell_type": "markdown",
   "metadata": {
    "deletable": true,
    "editable": true
   },
   "source": [
    "### Hyperparameters\n",
    "Tune the following parameters:\n",
    "* Set `epochs` to the number of iterations until the network stops learning or start overfitting\n",
    "* Set `batch_size` to the highest number that your machine has memory for.  Most people set them to common sizes of memory:\n",
    " * 64\n",
    " * 128\n",
    " * 256\n",
    " * ...\n",
    "* Set `keep_probability` to the probability of keeping a node using dropout"
   ]
  },
  {
   "cell_type": "code",
   "execution_count": 19,
   "metadata": {
    "collapsed": true,
    "deletable": true,
    "editable": true
   },
   "outputs": [],
   "source": [
    "\n",
    "epochs = 16\n",
    "batch_size = 256\n",
    "keep_probability = 0.5"
   ]
  },
  {
   "cell_type": "markdown",
   "metadata": {
    "deletable": true,
    "editable": true
   },
   "source": [
    "### Train on a Single CIFAR-10 Batch\n",
    "Instead of training the neural network on all the CIFAR-10 batches of data, let's use a single batch. This should save time while you iterate on the model to get a better accuracy.  Once the final validation accuracy is 50% or greater, run the model on all the data in the next section."
   ]
  },
  {
   "cell_type": "code",
   "execution_count": 20,
   "metadata": {
    "collapsed": false,
    "deletable": true,
    "editable": true
   },
   "outputs": [
    {
     "name": "stdout",
     "output_type": "stream",
     "text": [
      "Checking the Training on a Single Batch...\n",
      "Epoch  1, CIFAR-10 Batch 1:  Traiing Loss:    2.2203, Validation Loss:    2.2067, Validation Accuracy:    0.2368\n",
      "Epoch  2, CIFAR-10 Batch 1:  Traiing Loss:    2.0933, Validation Loss:    1.8866, Validation Accuracy:    0.3084\n",
      "Epoch  3, CIFAR-10 Batch 1:  Traiing Loss:    1.8098, Validation Loss:    1.7288, Validation Accuracy:    0.3658\n",
      "Epoch  4, CIFAR-10 Batch 1:  Traiing Loss:    1.6677, Validation Loss:    1.6126, Validation Accuracy:    0.3964\n",
      "Epoch  5, CIFAR-10 Batch 1:  Traiing Loss:    1.5480, Validation Loss:    1.5489, Validation Accuracy:    0.4284\n",
      "Epoch  6, CIFAR-10 Batch 1:  Traiing Loss:    1.3719, Validation Loss:    1.4691, Validation Accuracy:    0.4590\n",
      "Epoch  7, CIFAR-10 Batch 1:  Traiing Loss:    1.2279, Validation Loss:    1.4438, Validation Accuracy:    0.4728\n",
      "Epoch  8, CIFAR-10 Batch 1:  Traiing Loss:    1.1496, Validation Loss:    1.4423, Validation Accuracy:    0.4738\n",
      "Epoch  9, CIFAR-10 Batch 1:  Traiing Loss:    1.0043, Validation Loss:    1.4189, Validation Accuracy:    0.4852\n",
      "Epoch 10, CIFAR-10 Batch 1:  Traiing Loss:    0.9082, Validation Loss:    1.3986, Validation Accuracy:    0.5002\n",
      "Epoch 11, CIFAR-10 Batch 1:  Traiing Loss:    0.8321, Validation Loss:    1.3564, Validation Accuracy:    0.5100\n",
      "Epoch 12, CIFAR-10 Batch 1:  Traiing Loss:    0.7087, Validation Loss:    1.3345, Validation Accuracy:    0.5252\n",
      "Epoch 13, CIFAR-10 Batch 1:  Traiing Loss:    0.6904, Validation Loss:    1.3765, Validation Accuracy:    0.5196\n",
      "Epoch 14, CIFAR-10 Batch 1:  Traiing Loss:    0.5474, Validation Loss:    1.3383, Validation Accuracy:    0.5298\n",
      "Epoch 15, CIFAR-10 Batch 1:  Traiing Loss:    0.5464, Validation Loss:    1.4438, Validation Accuracy:    0.5068\n",
      "Epoch 16, CIFAR-10 Batch 1:  Traiing Loss:    0.4651, Validation Loss:    1.3481, Validation Accuracy:    0.5336\n"
     ]
    }
   ],
   "source": [
    "\"\"\"\n",
    "DON'T MODIFY ANYTHING IN THIS CELL\n",
    "\"\"\"\n",
    "print('Checking the Training on a Single Batch...')\n",
    "with tf.Session() as sess:\n",
    "    # Initializing the variables\n",
    "    sess.run(tf.global_variables_initializer())\n",
    "    \n",
    "    # Training cycle\n",
    "    for epoch in range(epochs):\n",
    "        batch_i = 1\n",
    "        for batch_features, batch_labels in helper.load_preprocess_training_batch(batch_i, batch_size):\n",
    "            train_neural_network(sess, optimizer, keep_probability, batch_features, batch_labels)\n",
    "        print('Epoch {:>2}, CIFAR-10 Batch {}:  '.format(epoch + 1, batch_i), end='')\n",
    "        print_stats(sess, batch_features, batch_labels, cost, accuracy)"
   ]
  },
  {
   "cell_type": "markdown",
   "metadata": {
    "deletable": true,
    "editable": true
   },
   "source": [
    "### Fully Train the Model\n",
    "Now that you got a good accuracy with a single CIFAR-10 batch, try it with all five batches."
   ]
  },
  {
   "cell_type": "code",
   "execution_count": 21,
   "metadata": {
    "collapsed": false,
    "deletable": true,
    "editable": true
   },
   "outputs": [
    {
     "name": "stdout",
     "output_type": "stream",
     "text": [
      "Training...\n",
      "Epoch  1, CIFAR-10 Batch 1:  Traiing Loss:    2.1438, Validation Loss:    2.0639, Validation Accuracy:    0.2844\n",
      "Epoch  1, CIFAR-10 Batch 2:  Traiing Loss:    1.8502, Validation Loss:    1.7732, Validation Accuracy:    0.3346\n",
      "Epoch  1, CIFAR-10 Batch 3:  Traiing Loss:    1.6179, Validation Loss:    1.6620, Validation Accuracy:    0.3892\n",
      "Epoch  1, CIFAR-10 Batch 4:  Traiing Loss:    1.6131, Validation Loss:    1.5743, Validation Accuracy:    0.4170\n",
      "Epoch  1, CIFAR-10 Batch 5:  Traiing Loss:    1.4984, Validation Loss:    1.5013, Validation Accuracy:    0.4454\n",
      "Epoch  2, CIFAR-10 Batch 1:  Traiing Loss:    1.6017, Validation Loss:    1.4327, Validation Accuracy:    0.4812\n",
      "Epoch  2, CIFAR-10 Batch 2:  Traiing Loss:    1.3669, Validation Loss:    1.3769, Validation Accuracy:    0.4956\n",
      "Epoch  2, CIFAR-10 Batch 3:  Traiing Loss:    1.1478, Validation Loss:    1.3834, Validation Accuracy:    0.4898\n",
      "Epoch  2, CIFAR-10 Batch 4:  Traiing Loss:    1.2776, Validation Loss:    1.3311, Validation Accuracy:    0.5126\n",
      "Epoch  2, CIFAR-10 Batch 5:  Traiing Loss:    1.2321, Validation Loss:    1.3628, Validation Accuracy:    0.5064\n",
      "Epoch  3, CIFAR-10 Batch 1:  Traiing Loss:    1.2666, Validation Loss:    1.2895, Validation Accuracy:    0.5328\n",
      "Epoch  3, CIFAR-10 Batch 2:  Traiing Loss:    1.0415, Validation Loss:    1.2741, Validation Accuracy:    0.5350\n",
      "Epoch  3, CIFAR-10 Batch 3:  Traiing Loss:    0.9721, Validation Loss:    1.2491, Validation Accuracy:    0.5344\n",
      "Epoch  3, CIFAR-10 Batch 4:  Traiing Loss:    1.0401, Validation Loss:    1.2121, Validation Accuracy:    0.5598\n",
      "Epoch  3, CIFAR-10 Batch 5:  Traiing Loss:    1.0678, Validation Loss:    1.2392, Validation Accuracy:    0.5596\n",
      "Epoch  4, CIFAR-10 Batch 1:  Traiing Loss:    0.9709, Validation Loss:    1.1985, Validation Accuracy:    0.5746\n",
      "Epoch  4, CIFAR-10 Batch 2:  Traiing Loss:    0.8943, Validation Loss:    1.2203, Validation Accuracy:    0.5536\n",
      "Epoch  4, CIFAR-10 Batch 3:  Traiing Loss:    0.7901, Validation Loss:    1.1704, Validation Accuracy:    0.5758\n",
      "Epoch  4, CIFAR-10 Batch 4:  Traiing Loss:    0.8731, Validation Loss:    1.1388, Validation Accuracy:    0.5946\n",
      "Epoch  4, CIFAR-10 Batch 5:  Traiing Loss:    0.8711, Validation Loss:    1.1805, Validation Accuracy:    0.5856\n",
      "Epoch  5, CIFAR-10 Batch 1:  Traiing Loss:    0.8373, Validation Loss:    1.1503, Validation Accuracy:    0.5942\n",
      "Epoch  5, CIFAR-10 Batch 2:  Traiing Loss:    0.6759, Validation Loss:    1.1099, Validation Accuracy:    0.6030\n",
      "Epoch  5, CIFAR-10 Batch 3:  Traiing Loss:    0.5706, Validation Loss:    1.1089, Validation Accuracy:    0.6036\n",
      "Epoch  5, CIFAR-10 Batch 4:  Traiing Loss:    0.7195, Validation Loss:    1.1108, Validation Accuracy:    0.6008\n",
      "Epoch  5, CIFAR-10 Batch 5:  Traiing Loss:    0.6783, Validation Loss:    1.1027, Validation Accuracy:    0.6154\n",
      "Epoch  6, CIFAR-10 Batch 1:  Traiing Loss:    0.7230, Validation Loss:    1.1021, Validation Accuracy:    0.6102\n",
      "Epoch  6, CIFAR-10 Batch 2:  Traiing Loss:    0.5497, Validation Loss:    1.0831, Validation Accuracy:    0.6178\n",
      "Epoch  6, CIFAR-10 Batch 3:  Traiing Loss:    0.5074, Validation Loss:    1.0593, Validation Accuracy:    0.6246\n",
      "Epoch  6, CIFAR-10 Batch 4:  Traiing Loss:    0.5996, Validation Loss:    1.0613, Validation Accuracy:    0.6232\n",
      "Epoch  6, CIFAR-10 Batch 5:  Traiing Loss:    0.5795, Validation Loss:    1.0585, Validation Accuracy:    0.6264\n",
      "Epoch  7, CIFAR-10 Batch 1:  Traiing Loss:    0.6122, Validation Loss:    1.0808, Validation Accuracy:    0.6186\n",
      "Epoch  7, CIFAR-10 Batch 2:  Traiing Loss:    0.4275, Validation Loss:    1.0532, Validation Accuracy:    0.6366\n",
      "Epoch  7, CIFAR-10 Batch 3:  Traiing Loss:    0.4870, Validation Loss:    1.0609, Validation Accuracy:    0.6258\n",
      "Epoch  7, CIFAR-10 Batch 4:  Traiing Loss:    0.4970, Validation Loss:    1.0689, Validation Accuracy:    0.6126\n",
      "Epoch  7, CIFAR-10 Batch 5:  Traiing Loss:    0.5206, Validation Loss:    1.0239, Validation Accuracy:    0.6428\n",
      "Epoch  8, CIFAR-10 Batch 1:  Traiing Loss:    0.5421, Validation Loss:    1.0320, Validation Accuracy:    0.6378\n",
      "Epoch  8, CIFAR-10 Batch 2:  Traiing Loss:    0.3399, Validation Loss:    1.0691, Validation Accuracy:    0.6308\n",
      "Epoch  8, CIFAR-10 Batch 3:  Traiing Loss:    0.3921, Validation Loss:    1.0412, Validation Accuracy:    0.6328\n",
      "Epoch  8, CIFAR-10 Batch 4:  Traiing Loss:    0.3829, Validation Loss:    1.0051, Validation Accuracy:    0.6458\n",
      "Epoch  8, CIFAR-10 Batch 5:  Traiing Loss:    0.4025, Validation Loss:    1.0211, Validation Accuracy:    0.6412\n",
      "Epoch  9, CIFAR-10 Batch 1:  Traiing Loss:    0.4528, Validation Loss:    1.0202, Validation Accuracy:    0.6404\n",
      "Epoch  9, CIFAR-10 Batch 2:  Traiing Loss:    0.2809, Validation Loss:    0.9987, Validation Accuracy:    0.6544\n",
      "Epoch  9, CIFAR-10 Batch 3:  Traiing Loss:    0.2737, Validation Loss:    0.9971, Validation Accuracy:    0.6494\n",
      "Epoch  9, CIFAR-10 Batch 4:  Traiing Loss:    0.3110, Validation Loss:    1.0064, Validation Accuracy:    0.6434\n",
      "Epoch  9, CIFAR-10 Batch 5:  Traiing Loss:    0.3194, Validation Loss:    1.0045, Validation Accuracy:    0.6550\n",
      "Epoch 10, CIFAR-10 Batch 1:  Traiing Loss:    0.4035, Validation Loss:    0.9713, Validation Accuracy:    0.6592\n",
      "Epoch 10, CIFAR-10 Batch 2:  Traiing Loss:    0.2602, Validation Loss:    0.9716, Validation Accuracy:    0.6588\n",
      "Epoch 10, CIFAR-10 Batch 3:  Traiing Loss:    0.2600, Validation Loss:    0.9843, Validation Accuracy:    0.6564\n",
      "Epoch 10, CIFAR-10 Batch 4:  Traiing Loss:    0.2850, Validation Loss:    0.9973, Validation Accuracy:    0.6480\n",
      "Epoch 10, CIFAR-10 Batch 5:  Traiing Loss:    0.2425, Validation Loss:    0.9512, Validation Accuracy:    0.6664\n",
      "Epoch 11, CIFAR-10 Batch 1:  Traiing Loss:    0.3328, Validation Loss:    0.9983, Validation Accuracy:    0.6594\n",
      "Epoch 11, CIFAR-10 Batch 2:  Traiing Loss:    0.2133, Validation Loss:    0.9978, Validation Accuracy:    0.6552\n",
      "Epoch 11, CIFAR-10 Batch 3:  Traiing Loss:    0.2398, Validation Loss:    0.9681, Validation Accuracy:    0.6584\n",
      "Epoch 11, CIFAR-10 Batch 4:  Traiing Loss:    0.2256, Validation Loss:    0.9699, Validation Accuracy:    0.6664\n",
      "Epoch 11, CIFAR-10 Batch 5:  Traiing Loss:    0.2113, Validation Loss:    0.9424, Validation Accuracy:    0.6720\n",
      "Epoch 12, CIFAR-10 Batch 1:  Traiing Loss:    0.2671, Validation Loss:    0.9521, Validation Accuracy:    0.6714\n",
      "Epoch 12, CIFAR-10 Batch 2:  Traiing Loss:    0.2179, Validation Loss:    0.9650, Validation Accuracy:    0.6696\n",
      "Epoch 12, CIFAR-10 Batch 3:  Traiing Loss:    0.2183, Validation Loss:    0.9943, Validation Accuracy:    0.6530\n",
      "Epoch 12, CIFAR-10 Batch 4:  Traiing Loss:    0.2038, Validation Loss:    0.9479, Validation Accuracy:    0.6748\n",
      "Epoch 12, CIFAR-10 Batch 5:  Traiing Loss:    0.2134, Validation Loss:    1.0180, Validation Accuracy:    0.6502\n",
      "Epoch 13, CIFAR-10 Batch 1:  Traiing Loss:    0.2509, Validation Loss:    0.9855, Validation Accuracy:    0.6540\n",
      "Epoch 13, CIFAR-10 Batch 2:  Traiing Loss:    0.2210, Validation Loss:    0.9565, Validation Accuracy:    0.6718\n",
      "Epoch 13, CIFAR-10 Batch 3:  Traiing Loss:    0.1500, Validation Loss:    0.9635, Validation Accuracy:    0.6686\n",
      "Epoch 13, CIFAR-10 Batch 4:  Traiing Loss:    0.1781, Validation Loss:    0.9269, Validation Accuracy:    0.6818\n",
      "Epoch 13, CIFAR-10 Batch 5:  Traiing Loss:    0.1571, Validation Loss:    0.9905, Validation Accuracy:    0.6676\n",
      "Epoch 14, CIFAR-10 Batch 1:  Traiing Loss:    0.1680, Validation Loss:    0.9480, Validation Accuracy:    0.6620\n",
      "Epoch 14, CIFAR-10 Batch 2:  Traiing Loss:    0.1477, Validation Loss:    0.9483, Validation Accuracy:    0.6786\n",
      "Epoch 14, CIFAR-10 Batch 3:  Traiing Loss:    0.1338, Validation Loss:    0.9693, Validation Accuracy:    0.6746\n",
      "Epoch 14, CIFAR-10 Batch 4:  Traiing Loss:    0.1798, Validation Loss:    0.9649, Validation Accuracy:    0.6738\n",
      "Epoch 14, CIFAR-10 Batch 5:  Traiing Loss:    0.1077, Validation Loss:    0.9873, Validation Accuracy:    0.6662\n",
      "Epoch 15, CIFAR-10 Batch 1:  Traiing Loss:    0.1572, Validation Loss:    0.9647, Validation Accuracy:    0.6664\n",
      "Epoch 15, CIFAR-10 Batch 2:  Traiing Loss:    0.1242, Validation Loss:    0.9821, Validation Accuracy:    0.6694\n",
      "Epoch 15, CIFAR-10 Batch 3:  Traiing Loss:    0.1269, Validation Loss:    0.9454, Validation Accuracy:    0.6800\n",
      "Epoch 15, CIFAR-10 Batch 4:  Traiing Loss:    0.1749, Validation Loss:    0.9775, Validation Accuracy:    0.6752\n",
      "Epoch 15, CIFAR-10 Batch 5:  Traiing Loss:    0.0981, Validation Loss:    0.9868, Validation Accuracy:    0.6714\n",
      "Epoch 16, CIFAR-10 Batch 1:  Traiing Loss:    0.1432, Validation Loss:    0.9408, Validation Accuracy:    0.6732\n",
      "Epoch 16, CIFAR-10 Batch 2:  Traiing Loss:    0.1231, Validation Loss:    0.9559, Validation Accuracy:    0.6764\n",
      "Epoch 16, CIFAR-10 Batch 3:  Traiing Loss:    0.0971, Validation Loss:    0.9651, Validation Accuracy:    0.6706\n",
      "Epoch 16, CIFAR-10 Batch 4:  Traiing Loss:    0.1108, Validation Loss:    0.9542, Validation Accuracy:    0.6772\n",
      "Epoch 16, CIFAR-10 Batch 5:  Traiing Loss:    0.0970, Validation Loss:    0.9699, Validation Accuracy:    0.6704\n"
     ]
    }
   ],
   "source": [
    "\"\"\"\n",
    "DON'T MODIFY ANYTHING IN THIS CELL\n",
    "\"\"\"\n",
    "save_model_path = './image_classification'\n",
    "\n",
    "print('Training...')\n",
    "with tf.Session() as sess:\n",
    "    # Initializing the variables\n",
    "    sess.run(tf.global_variables_initializer())\n",
    "    \n",
    "    # Training cycle\n",
    "    for epoch in range(epochs):\n",
    "        # Loop over all batches\n",
    "        n_batches = 5\n",
    "        for batch_i in range(1, n_batches + 1):\n",
    "            for batch_features, batch_labels in helper.load_preprocess_training_batch(batch_i, batch_size):\n",
    "                train_neural_network(sess, optimizer, keep_probability, batch_features, batch_labels)\n",
    "            print('Epoch {:>2}, CIFAR-10 Batch {}:  '.format(epoch + 1, batch_i), end='')\n",
    "            print_stats(sess, batch_features, batch_labels, cost, accuracy)\n",
    "            \n",
    "    # Save Model\n",
    "    saver = tf.train.Saver()\n",
    "    save_path = saver.save(sess, save_model_path)"
   ]
  },
  {
   "cell_type": "markdown",
   "metadata": {
    "deletable": true,
    "editable": true
   },
   "source": [
    "# Checkpoint\n",
    "The model has been saved to disk.\n",
    "## Test Model\n",
    "Test your model against the test dataset.  This will be your final accuracy. You should have an accuracy greater than 50%. If you don't, keep tweaking the model architecture and parameters."
   ]
  },
  {
   "cell_type": "code",
   "execution_count": 23,
   "metadata": {
    "collapsed": false,
    "deletable": true,
    "editable": true
   },
   "outputs": [
    {
     "name": "stdout",
     "output_type": "stream",
     "text": [
      "INFO:tensorflow:Restoring parameters from ./image_classification\n",
      "Testing Accuracy: 0.67529296875\n",
      "\n"
     ]
    },
    {
     "data": {
      "image/png": "[encoded data removed]",
      "text/plain": [
       "<matplotlib.figure.Figure at 0x123d05320>"
      ]
     },
     "metadata": {
      "image/png": {
       "height": 319,
       "width": 355
      }
     },
     "output_type": "display_data"
    }
   ],
   "source": [
    "\"\"\"\n",
    "DON'T MODIFY ANYTHING IN THIS CELL\n",
    "\"\"\"\n",
    "%matplotlib inline\n",
    "%config InlineBackend.figure_format = 'retina'\n",
    "\n",
    "import tensorflow as tf\n",
    "import pickle\n",
    "import helper\n",
    "import random\n",
    "\n",
    "# Set batch size if not already set\n",
    "try:\n",
    "    if batch_size:\n",
    "        pass\n",
    "except NameError:\n",
    "    batch_size = 64\n",
    "\n",
    "save_model_path = './image_classification'\n",
    "n_samples = 4\n",
    "top_n_predictions = 3\n",
    "\n",
    "def test_model():\n",
    "    \"\"\"\n",
    "    Test the saved model against the test dataset\n",
    "    \"\"\"\n",
    "\n",
    "    test_features, test_labels = pickle.load(open('preprocess_training.p', mode='rb'))\n",
    "    loaded_graph = tf.Graph()\n",
    "\n",
    "    with tf.Session(graph=loaded_graph) as sess:\n",
    "        # Load model\n",
    "        loader = tf.train.import_meta_graph(save_model_path + '.meta')\n",
    "        loader.restore(sess, save_model_path)\n",
    "\n",
    "        # Get Tensors from loaded model\n",
    "        loaded_x = loaded_graph.get_tensor_by_name('x:0')\n",
    "        loaded_y = loaded_graph.get_tensor_by_name('y:0')\n",
    "        loaded_keep_prob = loaded_graph.get_tensor_by_name('keep_prob:0')\n",
    "        loaded_logits = loaded_graph.get_tensor_by_name('logits:0')\n",
    "        loaded_acc = loaded_graph.get_tensor_by_name('accuracy:0')\n",
    "        \n",
    "        # Get accuracy in batches for memory limitations\n",
    "        test_batch_acc_total = 0\n",
    "        test_batch_count = 0\n",
    "        \n",
    "        for train_feature_batch, train_label_batch in helper.batch_features_labels(test_features, test_labels, batch_size):\n",
    "            test_batch_acc_total += sess.run(\n",
    "                loaded_acc,\n",
    "                feed_dict={loaded_x: train_feature_batch, loaded_y: train_label_batch, loaded_keep_prob: 1.0})\n",
    "            test_batch_count += 1\n",
    "\n",
    "        print('Testing Accuracy: {}\\n'.format(test_batch_acc_total/test_batch_count))\n",
    "\n",
    "        # Print Random Samples\n",
    "        random_test_features, random_test_labels = tuple(zip(*random.sample(list(zip(test_features, test_labels)), n_samples)))\n",
    "        random_test_predictions = sess.run(\n",
    "            tf.nn.top_k(tf.nn.softmax(loaded_logits), top_n_predictions),\n",
    "            feed_dict={loaded_x: random_test_features, loaded_y: random_test_labels, loaded_keep_prob: 1.0})\n",
    "        helper.display_image_predictions(random_test_features, random_test_labels, random_test_predictions)\n",
    "\n",
    "\n",
    "test_model()"
   ]
  },
  {
   "cell_type": "markdown",
   "metadata": {
    "deletable": true,
    "editable": true
   },
   "source": [
    "## Why 50-80% Accuracy?\n",
    "You might be wondering why you can't get an accuracy any higher. First things first, 50% isn't bad for a simple CNN.  Pure guessing would get you 10% accuracy. However, you might notice people are getting scores [well above 80%](http://rodrigob.github.io/are_we_there_yet/build/classification_datasets_results.html#43494641522d3130).  That's because we haven't taught you all there is to know about neural networks. We still need to cover a few more techniques.\n",
    "## Submitting This Project\n",
    "When submitting this project, make sure to run all the cells before saving the notebook.  Save the notebook file as \"dlnd_image_classification.ipynb\" and save it as a HTML file under \"File\" -> \"Download as\".  Include the \"helper.py\" and \"problem_unittests.py\" files in your submission."
   ]
  }
 ],
 "metadata": {
  "kernelspec": {
   "display_name": "Python 3",
   "language": "python",
   "name": "python3"
  },
  "language_info": {
   "codemirror_mode": {
    "name": "ipython",
    "version": 3
   },
   "file_extension": ".py",
   "mimetype": "text/x-python",
   "name": "python",
   "nbconvert_exporter": "python",
   "pygments_lexer": "ipython3",
   "version": "3.6.0"
  }
 },
 "nbformat": 4,
 "nbformat_minor": 0
}
